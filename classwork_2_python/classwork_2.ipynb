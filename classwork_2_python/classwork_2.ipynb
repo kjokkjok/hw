{
 "cells": [
  {
   "cell_type": "code",
   "execution_count": 2,
   "metadata": {},
   "outputs": [],
   "source": [
    "from Bio.Blast import NCBIWWW\n",
    "from Bio.Blast import NCBIXML\n",
    "from Bio import SeqIO\n",
    "with open(\"blast_result.fasta\", \"w\") as out_handle:\n",
    "\n",
    "        for record in SeqIO.parse(\"./classwork2.fasta\", format=\"fasta\"):\n",
    "\n",
    "            result_handle = NCBIWWW.qblast(\"blastn\", \"nt\", record.seq,hitlist_size=1, descriptions=1,alignments=1)\n",
    "\n",
    "            blast_records = NCBIXML.parse(result_handle)\n",
    "        \n",
    "            for blast_record in blast_records:\n",
    "                for alignment in blast_record.alignments:\n",
    "                    for hsp in alignment.hsps:\n",
    "                        out_handle.write(\">\"+alignment.hit_def+\"\\n\"+hsp.query+\"\\n\")\n",
    "                        break"
   ]
  },
  {
   "cell_type": "code",
   "execution_count": 41,
   "metadata": {},
   "outputs": [],
   "source": []
  }
 ],
 "metadata": {
  "kernelspec": {
   "display_name": "Python 3",
   "language": "python",
   "name": "python3"
  },
  "language_info": {
   "codemirror_mode": {
    "name": "ipython",
    "version": 3
   },
   "file_extension": ".py",
   "mimetype": "text/x-python",
   "name": "python",
   "nbconvert_exporter": "python",
   "pygments_lexer": "ipython3",
   "version": "3.5.2"
  }
 },
 "nbformat": 4,
 "nbformat_minor": 2
}
